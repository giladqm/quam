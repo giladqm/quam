{
    "cells": [
        {
            "cell_type": "markdown",
            "metadata": {},
            "source": [
                "# QuAM demonstration"
            ]
        },
        {
            "cell_type": "code",
            "execution_count": 1,
            "metadata": {},
            "outputs": [
                {
                    "name": "stdout",
                    "output_type": "stream",
                    "text": [
                        "2023-11-21 15:59:54,051 - qm - INFO     - Starting session: 3f9934f5-45b8-47fe-9d90-75ff6a44eba3\n"
                    ]
                }
            ],
            "source": [
                "import json\n",
                "from quam.components import *\n",
                "from quam.components.superconducting_qubits import *\n",
                "\n",
                "from pathlib import Path\n",
                "root_folder = Path(\"./output\")\n",
                "root_folder.mkdir(exist_ok=True)\n",
                "for key in [\"basic\", \"referenced\", \"referenced_multifile\"]:\n",
                "    (root_folder / key).mkdir(exist_ok=True)"
            ]
        },
        {
            "cell_type": "markdown",
            "metadata": {},
            "source": [
                "## Creating QuAM from scratch"
            ]
        },
        {
            "cell_type": "markdown",
            "metadata": {},
            "source": [
                "The user defines his own QuAM by inheriting from `QuamRoot` (see `components/quam.py`).\n",
                "Once defined, it can be instantiated as follows:"
            ]
        },
        {
            "cell_type": "code",
            "execution_count": 5,
            "metadata": {},
            "outputs": [
                {
                    "data": {
                        "text/plain": [
                            "QuAM(mixers=[], qubits=[], resonators=[], local_oscillators=[], wiring={})"
                        ]
                    },
                    "execution_count": 5,
                    "metadata": {},
                    "output_type": "execute_result"
                }
            ],
            "source": [
                "machine = QuAM()\n",
                "machine"
            ]
        },
        {
            "cell_type": "markdown",
            "metadata": {},
            "source": [
                "We see that five attributes are defined in quam, all empty so far. We can begin populating it with different `QuamComponent`s"
            ]
        },
        {
            "cell_type": "code",
            "execution_count": 6,
            "metadata": {},
            "outputs": [
                {
                    "data": {
                        "text/plain": [
                            "QuAM(mixers=[], qubits=[Transmon(id=0, xy=IQChannel(operations={}, id=None, opx_output_I=('con1', 3), opx_output_Q=('con1', 4), frequency_converter_up=FrequencyConverter(local_oscillator=LocalOscillator(frequency=6000000000.0, power=10), mixer=Mixer(local_oscillator_frequency=6000000000.0, intermediate_frequency=0.0, offset_I=0, offset_Q=0, correction_gain=0, correction_phase=0), gain=None), mixer=Mixer(local_oscillator_frequency=6000000000.0, intermediate_frequency=0.0, offset_I=0, offset_Q=0, correction_gain=0, correction_phase=0), local_oscillator=LocalOscillator(frequency=6000000000.0, power=10), intermediate_frequency=0.0), z=SingleChannel(operations={}, id=None, opx_output=('con1', 5), filter_fir_taps=None, filter_iir_taps=None, offset=0), resonator=None), Transmon(id=1, xy=IQChannel(operations={}, id=None, opx_output_I=('con1', 6), opx_output_Q=('con1', 7), frequency_converter_up=FrequencyConverter(local_oscillator=LocalOscillator(frequency=6000000000.0, power=10), mixer=Mixer(local_oscillator_frequency=6000000000.0, intermediate_frequency=0.0, offset_I=0, offset_Q=0, correction_gain=0, correction_phase=0), gain=None), mixer=Mixer(local_oscillator_frequency=6000000000.0, intermediate_frequency=0.0, offset_I=0, offset_Q=0, correction_gain=0, correction_phase=0), local_oscillator=LocalOscillator(frequency=6000000000.0, power=10), intermediate_frequency=0.0), z=SingleChannel(operations={}, id=None, opx_output=('con1', 8), filter_fir_taps=None, filter_iir_taps=None, offset=0), resonator=None)], resonators=[InOutIQChannel(operations={}, id=0, opx_output_I=('con1', 1), opx_output_Q=('con1', 2), frequency_converter_up=FrequencyConverter(local_oscillator=LocalOscillator(frequency=6000000000.0, power=10), mixer=Mixer(local_oscillator_frequency=6000000000.0, intermediate_frequency=0.0, offset_I=0, offset_Q=0, correction_gain=0, correction_phase=0), gain=None), mixer=Mixer(local_oscillator_frequency=6000000000.0, intermediate_frequency=0.0, offset_I=0, offset_Q=0, correction_gain=0, correction_phase=0), local_oscillator=LocalOscillator(frequency=6000000000.0, power=10), intermediate_frequency=0.0, frequency_converter_down=FrequencyConverter(local_oscillator=LocalOscillator(frequency=6000000000.0, power=10), mixer=None, gain=None), opx_input_I=('con1', 1), opx_input_Q=('con1', 2), time_of_flight=24, smearing=0, input_offset_I=0.0, input_offset_Q=0.0, input_gain=None), InOutIQChannel(operations={}, id=1, opx_output_I=('con1', 1), opx_output_Q=('con1', 2), frequency_converter_up=FrequencyConverter(local_oscillator=LocalOscillator(frequency=6000000000.0, power=10), mixer=Mixer(local_oscillator_frequency=6000000000.0, intermediate_frequency=0.0, offset_I=0, offset_Q=0, correction_gain=0, correction_phase=0), gain=None), mixer=Mixer(local_oscillator_frequency=6000000000.0, intermediate_frequency=0.0, offset_I=0, offset_Q=0, correction_gain=0, correction_phase=0), local_oscillator=LocalOscillator(frequency=6000000000.0, power=10), intermediate_frequency=0.0, frequency_converter_down=FrequencyConverter(local_oscillator=LocalOscillator(frequency=6000000000.0, power=10), mixer=None, gain=None), opx_input_I=('con1', 1), opx_input_Q=('con1', 2), time_of_flight=24, smearing=0, input_offset_I=0.0, input_offset_Q=0.0, input_gain=None)], local_oscillators=[], wiring={})"
                        ]
                    },
                    "execution_count": 6,
                    "metadata": {},
                    "output_type": "execute_result"
                }
            ],
            "source": [
                "num_qubits = 2\n",
                "for idx in range(num_qubits):\n",
                "    # Create qubit components\n",
                "    transmon = Transmon(\n",
                "        id=idx,\n",
                "        xy=IQChannel(\n",
                "            frequency_converter_up=FrequencyConverter(\n",
                "                local_oscillator=LocalOscillator(power=10, frequency=6e9),\n",
                "                mixer=Mixer(),\n",
                "            ),\n",
                "            opx_output_I=(\"con1\", 3 * idx + 3),\n",
                "            opx_output_Q=(\"con1\", 3 * idx + 4),\n",
                "        ),\n",
                "        z=SingleChannel(opx_output=(\"con1\", 3 * idx + 5)),\n",
                "    )\n",
                "    machine.qubits.append(transmon)\n",
                "\n",
                "    # Create resonator components\n",
                "    resonator = InOutIQChannel(\n",
                "        opx_input_I=(\"con1\", 1),\n",
                "        opx_input_Q=(\"con1\", 2),\n",
                "        opx_output_I=(\"con1\", 1),\n",
                "        opx_output_Q=(\"con1\", 2),\n",
                "        id=idx, \n",
                "        frequency_converter_up=FrequencyConverter(\n",
                "            mixer=Mixer(),\n",
                "        ),\n",
                "        frequency_converter_down=FrequencyConverter(\n",
                "        ),\n",
                "        local_oscillator=LocalOscillator(power=10, frequency=6e9),\n",
                "    )\n",
                "    machine.resonators.append(resonator)\n",
                "\n",
                "machine"
            ]
        },
        {
            "cell_type": "markdown",
            "metadata": {},
            "source": [
                "## Saving and loading quam"
            ]
        },
        {
            "cell_type": "markdown",
            "metadata": {},
            "source": [
                "We can then save quam to a json file:"
            ]
        },
        {
            "cell_type": "code",
            "execution_count": 7,
            "metadata": {},
            "outputs": [],
            "source": [
                "machine.save(root_folder / \"basic\" / \"state.json\")"
            ]
        },
        {
            "cell_type": "markdown",
            "metadata": {},
            "source": [
                "Finally, we can also load quam from the same json file"
            ]
        },
        {
            "cell_type": "code",
            "execution_count": 8,
            "metadata": {},
            "outputs": [],
            "source": [
                "loaded_quam = QuAM.load(root_folder / \"basic\" / \"state.json\")"
            ]
        },
        {
            "cell_type": "markdown",
            "metadata": {},
            "source": [
                "Importantly, the `state.json` file only describes how QuAM is structured, and how the different QuAM components should be initialized. The components themselves are defined in their respective classes."
            ]
        },
        {
            "cell_type": "markdown",
            "metadata": {},
            "source": [
                "## Generating QUA config"
            ]
        },
        {
            "cell_type": "markdown",
            "metadata": {},
            "source": [
                "We can also generate the qua config from quam. This recursively calls `QuamComponent.apply_to_config()` on all quam components."
            ]
        },
        {
            "cell_type": "code",
            "execution_count": 9,
            "metadata": {},
            "outputs": [],
            "source": [
                "qua_config = machine.generate_config()\n",
                "json.dump(qua_config, open(root_folder / \"basic\" / \"qua_config.json\", \"w\"), indent=2)"
            ]
        },
        {
            "cell_type": "code",
            "execution_count": 10,
            "metadata": {},
            "outputs": [
                {
                    "data": {
                        "text/plain": [
                            "PosixPath('output/basic/qua_config.json')"
                        ]
                    },
                    "execution_count": 10,
                    "metadata": {},
                    "output_type": "execute_result"
                }
            ],
            "source": [
                "root_folder / \"basic\" / \"qua_config.json\""
            ]
        },
        {
            "cell_type": "markdown",
            "metadata": {},
            "source": [
                "## Quam using references"
            ]
        },
        {
            "cell_type": "markdown",
            "metadata": {},
            "source": [
                "QuAM allows values to reference another part of QuAM by setting its value to a string starting with a colon: `\"#/path/to/referenced/value\"`.\n",
                "\n",
                "As an example why this is useful, we previously hardcoded all output ports. However, grouping everything at a top-level `\"wiring\"`` makes more sense, so we can have all output ports reference to it.\n",
                "\n",
                "Below we also add several more references"
            ]
        },
        {
            "cell_type": "code",
            "execution_count": 12,
            "metadata": {},
            "outputs": [
                {
                    "data": {
                        "text/plain": [
                            "QuAM(mixers=[], qubits=[Transmon(id=0, xy=IQChannel(operations={}, id=None, opx_output_I=('con1', 3), opx_output_Q=('con1', 4), frequency_converter_up=FrequencyConverter(local_oscillator=LocalOscillator(frequency=6000000000.0, power=10), mixer=Mixer(local_oscillator_frequency=6000000000.0, intermediate_frequency=0.0, offset_I=0, offset_Q=0, correction_gain=0, correction_phase=0), gain=None), mixer=Mixer(local_oscillator_frequency=6000000000.0, intermediate_frequency=0.0, offset_I=0, offset_Q=0, correction_gain=0, correction_phase=0), local_oscillator=LocalOscillator(frequency=6000000000.0, power=10), intermediate_frequency=0.0), z=SingleChannel(operations={}, id=None, opx_output=('con1', 5), filter_fir_taps=None, filter_iir_taps=None, offset=0), resonator=None), Transmon(id=1, xy=IQChannel(operations={}, id=None, opx_output_I=('con1', 6), opx_output_Q=('con1', 7), frequency_converter_up=FrequencyConverter(local_oscillator=LocalOscillator(frequency=6000000000.0, power=10), mixer=Mixer(local_oscillator_frequency=6000000000.0, intermediate_frequency=0.0, offset_I=0, offset_Q=0, correction_gain=0, correction_phase=0), gain=None), mixer=Mixer(local_oscillator_frequency=6000000000.0, intermediate_frequency=0.0, offset_I=0, offset_Q=0, correction_gain=0, correction_phase=0), local_oscillator=LocalOscillator(frequency=6000000000.0, power=10), intermediate_frequency=0.0), z=SingleChannel(operations={}, id=None, opx_output=('con1', 8), filter_fir_taps=None, filter_iir_taps=None, offset=0), resonator=None)], resonators=[InOutIQChannel(operations={}, id=0, opx_output_I=('con1', 1), opx_output_Q=('con1', 2), frequency_converter_up=FrequencyConverter(local_oscillator=LocalOscillator(frequency=6000000000.0, power=10), mixer=Mixer(local_oscillator_frequency=6000000000.0, intermediate_frequency=0.0, offset_I=0, offset_Q=0, correction_gain=0, correction_phase=0), gain=None), mixer=Mixer(local_oscillator_frequency=6000000000.0, intermediate_frequency=0.0, offset_I=0, offset_Q=0, correction_gain=0, correction_phase=0), local_oscillator=LocalOscillator(frequency=6000000000.0, power=10), intermediate_frequency=0.0, frequency_converter_down=FrequencyConverter(local_oscillator=LocalOscillator(frequency=6000000000.0, power=10), mixer=None, gain=None), opx_input_I=('con1', 1), opx_input_Q=('con1', 2), time_of_flight=24, smearing=0, input_offset_I=0.0, input_offset_Q=0.0, input_gain=None), InOutIQChannel(operations={}, id=1, opx_output_I=('con1', 1), opx_output_Q=('con1', 2), frequency_converter_up=FrequencyConverter(local_oscillator=LocalOscillator(frequency=6000000000.0, power=10), mixer=Mixer(local_oscillator_frequency=6000000000.0, intermediate_frequency=0.0, offset_I=0, offset_Q=0, correction_gain=0, correction_phase=0), gain=None), mixer=Mixer(local_oscillator_frequency=6000000000.0, intermediate_frequency=0.0, offset_I=0, offset_Q=0, correction_gain=0, correction_phase=0), local_oscillator=LocalOscillator(frequency=6000000000.0, power=10), intermediate_frequency=0.0, frequency_converter_down=FrequencyConverter(local_oscillator=LocalOscillator(frequency=6000000000.0, power=10), mixer=None, gain=None), opx_input_I=('con1', 1), opx_input_Q=('con1', 2), time_of_flight=24, smearing=0, input_offset_I=0.0, input_offset_Q=0.0, input_gain=None)], local_oscillators=[], wiring={'qubits': [{'opx_output_I': ('con1', 3), 'opx_output_Q': ('con1', 4), 'opx_output_Z': ('con1', 5)}, {'opx_output_I': ('con1', 6), 'opx_output_Q': ('con1', 7), 'opx_output_Z': ('con1', 8)}], 'resonator': {'opx_output_I': ('con1', 1), 'opx_output_Q': ('con1', 2), 'opx_input_I': ('con1', 1), 'opx_input_Q': ('con1', 2)}})"
                        ]
                    },
                    "execution_count": 12,
                    "metadata": {},
                    "output_type": "execute_result"
                }
            ],
            "source": [
                "num_qubits = 2\n",
                "machine = QuAM()\n",
                "machine.wiring = {\n",
                "    \"qubits\": [\n",
                "        {\n",
                "            \"opx_output_I\": (\"con1\", 3 * k + 3), \n",
                "            \"opx_output_Q\": (\"con1\", 3 * k + 4), \n",
                "            \"opx_output_Z\": (\"con1\", 3 * k + 5)\n",
                "        }\n",
                "        for k in range(num_qubits)\n",
                "    ],\n",
                "    \"resonator\": {\n",
                "        \"opx_output_I\": (\"con1\", 1), \n",
                "        \"opx_output_Q\": (\"con1\", 2), \n",
                "        \"opx_input_I\": (\"con1\", 1), \n",
                "        \"opx_input_Q\": (\"con1\", 2)\n",
                "    }\n",
                "}\n",
                "\n",
                "for idx in range(num_qubits):\n",
                "    # Create qubit components\n",
                "    transmon = Transmon(\n",
                "        id=idx,\n",
                "        xy=IQChannel(\n",
                "            frequency_converter_up=FrequencyConverter(\n",
                "                local_oscillator=LocalOscillator(power=10, frequency=6e9),\n",
                "                mixer=Mixer(),\n",
                "            ),\n",
                "            opx_output_I=f\"#/wiring/qubits/{idx}/opx_output_I\",\n",
                "            opx_output_Q=f\"#/wiring/qubits/{idx}/opx_output_Q\",\n",
                "        ),\n",
                "        z=SingleChannel(opx_output=f\"#/wiring/qubits/{idx}/opx_output_Z\",),\n",
                "    )\n",
                "    machine.qubits.append(transmon)\n",
                "\n",
                "    # Create resonator components\n",
                "    resonator = InOutIQChannel(\n",
                "        opx_input_I=\"#/wiring/resonator/opx_input_I\",\n",
                "        opx_input_Q=\"#/wiring/resonator/opx_input_Q\",\n",
                "        opx_output_I=\"#/wiring/resonator/opx_output_I\",\n",
                "        opx_output_Q=\"#/wiring/resonator/opx_output_Q\",\n",
                "        id=idx, \n",
                "        frequency_converter_up=FrequencyConverter(\n",
                "            mixer=Mixer(),\n",
                "        ),\n",
                "        local_oscillator=LocalOscillator(power=10, frequency=6e9),\n",
                "        frequency_converter_down=FrequencyConverter(),\n",
                "    )\n",
                "    machine.resonators.append(resonator)\n",
                "\n",
                "machine"
            ]
        },
        {
            "cell_type": "markdown",
            "metadata": {},
            "source": [
                "We again save quam and the QUA config. The QUA config is identical to previous, but QuAM has changed significantly"
            ]
        },
        {
            "cell_type": "code",
            "execution_count": 13,
            "metadata": {},
            "outputs": [],
            "source": [
                "machine.save(root_folder / \"referenced\" / \"state.json\")"
            ]
        },
        {
            "cell_type": "code",
            "execution_count": 14,
            "metadata": {},
            "outputs": [],
            "source": [
                "qua_config = machine.generate_config()\n",
                "json.dump(qua_config, open(root_folder / \"referenced\" / \"qua_config.json\", \"w\"), indent=2)"
            ]
        },
        {
            "cell_type": "markdown",
            "metadata": {},
            "source": [
                "## Separating QuAM into multiple files"
            ]
        },
        {
            "cell_type": "markdown",
            "metadata": {},
            "source": [
                "Finally, we can also separate parts of QuAM to be placed into a separate file.\n",
                "This can be especially useful when combined with referencing because we can now have a separate file dedicated to the wiring of the experiment.\n",
                "\n",
                "Here we point quam to a folder instead of a json file, and we specify that `\"wiring\"` should go to a separate `wiring.json` file in that folder:"
            ]
        },
        {
            "cell_type": "code",
            "execution_count": 15,
            "metadata": {},
            "outputs": [],
            "source": [
                "machine.save(root_folder / \"referenced_multifile\" / \"quam\", content_mapping={\"wiring.json\": [\"wiring\"]})"
            ]
        },
        {
            "cell_type": "markdown",
            "metadata": {},
            "source": [
                "It can subseuently be loaded as usual"
            ]
        },
        {
            "cell_type": "code",
            "execution_count": 16,
            "metadata": {},
            "outputs": [],
            "source": [
                "machine = QuAM.load(root_folder / \"referenced_multifile\" / \"quam\")"
            ]
        },
        {
            "cell_type": "markdown",
            "metadata": {},
            "source": [
                "Separating QuAM into multiple files allows the user to revert back to a previous QuAM but keep some parts the same.\n",
                "For example, the user may want to revert all experimental settings, but the wiring of the setup should of course not change."
            ]
        }
    ],
    "metadata": {
        "kernelspec": {
            "display_name": "QuAM",
            "language": "python",
            "name": "python3"
        },
        "language_info": {
            "codemirror_mode": {
                "name": "ipython",
                "version": 3
            },
            "file_extension": ".py",
            "mimetype": "text/x-python",
            "name": "python",
            "nbconvert_exporter": "python",
            "pygments_lexer": "ipython3",
            "version": "3.11.5"
        },
        "orig_nbformat": 4
    },
    "nbformat": 4,
    "nbformat_minor": 2
}